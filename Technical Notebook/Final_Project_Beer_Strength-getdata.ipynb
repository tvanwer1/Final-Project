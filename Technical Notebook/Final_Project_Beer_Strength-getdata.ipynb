{
 "cells": [
  {
   "cell_type": "code",
   "execution_count": 2,
   "metadata": {},
   "outputs": [],
   "source": [
    "# Call necessary libraries\n",
    "import pandas as pd\n",
    "import os\n",
    "import seaborn as sns\n",
    "import numpy as np\n",
    "import matplotlib.pyplot as plt\n",
    "%matplotlib inline\n",
    "import datetime\n",
    "from datetime import date, datetime\n",
    "import re\n",
    "import math\n",
    "import plotly.graph_objs as go\n",
    "import plotly.figure_factory as ff\n",
    "import plotly as py\n",
    "from sklearn.linear_model import LinearRegression\n",
    "from sklearn.metrics import mean_squared_error"
   ]
  },
  {
   "cell_type": "code",
   "execution_count": 5,
   "metadata": {},
   "outputs": [],
   "source": [
    "df = pd.read_csv('https://query.data.world/s/gib6aa6n3tmtuvrqpbdlhcbgdg7tk4')\n"
   ]
  },
  {
   "cell_type": "code",
   "execution_count": 6,
   "metadata": {},
   "outputs": [
    {
     "data": {
      "text/plain": [
       "(1586614, 13)"
      ]
     },
     "execution_count": 6,
     "metadata": {},
     "output_type": "execute_result"
    }
   ],
   "source": [
    "df.shape"
   ]
  },
  {
   "cell_type": "code",
   "execution_count": 7,
   "metadata": {},
   "outputs": [
    {
     "name": "stdout",
     "output_type": "stream",
     "text": [
      "Unique breweries\n",
      "By id: 5840\n",
      "By name: 5742\n"
     ]
    }
   ],
   "source": [
    "# Count of unique breweries => Integrity issues evidenced => Id is not considered for subsequent analysis\n",
    "print( 'Unique breweries' )\n",
    "print( 'By id:', df[ 'brewery_id' ].nunique() )\n",
    "print( 'By name:', df[ 'brewery_name' ].nunique() )"
   ]
  },
  {
   "cell_type": "code",
   "execution_count": 8,
   "metadata": {},
   "outputs": [
    {
     "name": "stdout",
     "output_type": "stream",
     "text": [
      "Unique beers\n",
      "By id: 66055\n",
      "By name: 56857\n"
     ]
    }
   ],
   "source": [
    "# Count of unique beers => Integrity issues evidenced => Id is not considered for subsequent analysis\n",
    "print( 'Unique beers' )\n",
    "print( 'By id:', df[ 'beer_beerid' ].nunique() )\n",
    "print( 'By name:', df[ 'beer_name' ].nunique() )"
   ]
  },
  {
   "cell_type": "code",
   "execution_count": 9,
   "metadata": {},
   "outputs": [
    {
     "data": {
      "text/plain": [
       "northyorksammy    5817\n",
       "BuckeyeNation     4661\n",
       "mikesgroove       4617\n",
       "Thorpe429         3518\n",
       "womencantsail     3497\n",
       "                  ... \n",
       "Rikadyn              1\n",
       "ruffbrew             1\n",
       "JGS                  1\n",
       "CplSleden            1\n",
       "oldbeerfan           1\n",
       "Name: review_profilename, Length: 33387, dtype: int64"
      ]
     },
     "execution_count": 9,
     "metadata": {},
     "output_type": "execute_result"
    }
   ],
   "source": [
    "# Reviews by user\n",
    "df[ 'review_profilename' ].value_counts()"
   ]
  },
  {
   "cell_type": "code",
   "execution_count": 10,
   "metadata": {},
   "outputs": [],
   "source": [
    "# A beer subset removing review information is created \n",
    "grouped_beers_df = df[ [ 'beer_name', 'brewery_name', 'beer_style', 'beer_abv', 'review_overall' ] ].drop_duplicates()"
   ]
  },
  {
   "cell_type": "code",
   "execution_count": 11,
   "metadata": {},
   "outputs": [],
   "source": [
    "# Count of beers with the same name but different brewery, style or AVB%\n",
    "beers = grouped_beers_df.loc[ grouped_beers_df.duplicated( subset = [ 'beer_name' ], keep = False ) ].sort_values( by = 'beer_name'  ).shape"
   ]
  },
  {
   "cell_type": "code",
   "execution_count": 12,
   "metadata": {},
   "outputs": [
    {
     "data": {
      "text/plain": [
       "American IPA                       9960\n",
       "American Pale Ale (APA)            8654\n",
       "American Amber / Red Ale           6551\n",
       "American Porter                    5799\n",
       "American Double / Imperial IPA     4928\n",
       "                                   ... \n",
       "Kvass                               116\n",
       "Gose                                104\n",
       "Bière de Champagne / Bière Brut      88\n",
       "Sahti                                87\n",
       "Faro                                 81\n",
       "Name: beer_style, Length: 104, dtype: int64"
      ]
     },
     "execution_count": 12,
     "metadata": {},
     "output_type": "execute_result"
    }
   ],
   "source": [
    "# Beers by style\n",
    "grouped_beers_df[ 'beer_style' ].value_counts( dropna = False )"
   ]
  },
  {
   "cell_type": "code",
   "execution_count": 19,
   "metadata": {},
   "outputs": [
    {
     "data": {
      "text/html": [
       "<div>\n",
       "<style scoped>\n",
       "    .dataframe tbody tr th:only-of-type {\n",
       "        vertical-align: middle;\n",
       "    }\n",
       "\n",
       "    .dataframe tbody tr th {\n",
       "        vertical-align: top;\n",
       "    }\n",
       "\n",
       "    .dataframe thead th {\n",
       "        text-align: right;\n",
       "    }\n",
       "</style>\n",
       "<table border=\"1\" class=\"dataframe\">\n",
       "  <thead>\n",
       "    <tr style=\"text-align: right;\">\n",
       "      <th></th>\n",
       "      <th>beer_name</th>\n",
       "      <th>brewery_name</th>\n",
       "      <th>beer_style</th>\n",
       "      <th>beer_abv</th>\n",
       "      <th>review_overall</th>\n",
       "      <th>beer_strength</th>\n",
       "    </tr>\n",
       "  </thead>\n",
       "  <tbody>\n",
       "    <tr>\n",
       "      <th>0</th>\n",
       "      <td>Sausa Weizen</td>\n",
       "      <td>Vecchio Birraio</td>\n",
       "      <td>Hefeweizen</td>\n",
       "      <td>5.0</td>\n",
       "      <td>1.5</td>\n",
       "      <td>Reg</td>\n",
       "    </tr>\n",
       "    <tr>\n",
       "      <th>1</th>\n",
       "      <td>Red Moon</td>\n",
       "      <td>Vecchio Birraio</td>\n",
       "      <td>English Strong Ale</td>\n",
       "      <td>6.2</td>\n",
       "      <td>3.0</td>\n",
       "      <td>High</td>\n",
       "    </tr>\n",
       "    <tr>\n",
       "      <th>2</th>\n",
       "      <td>Black Horse Black Beer</td>\n",
       "      <td>Vecchio Birraio</td>\n",
       "      <td>Foreign / Export Stout</td>\n",
       "      <td>6.5</td>\n",
       "      <td>3.0</td>\n",
       "      <td>High</td>\n",
       "    </tr>\n",
       "    <tr>\n",
       "      <th>3</th>\n",
       "      <td>Sausa Pils</td>\n",
       "      <td>Vecchio Birraio</td>\n",
       "      <td>German Pilsener</td>\n",
       "      <td>5.0</td>\n",
       "      <td>3.0</td>\n",
       "      <td>Reg</td>\n",
       "    </tr>\n",
       "    <tr>\n",
       "      <th>4</th>\n",
       "      <td>Cauldron DIPA</td>\n",
       "      <td>Caldera Brewing Company</td>\n",
       "      <td>American Double / Imperial IPA</td>\n",
       "      <td>7.7</td>\n",
       "      <td>4.0</td>\n",
       "      <td>High</td>\n",
       "    </tr>\n",
       "  </tbody>\n",
       "</table>\n",
       "</div>"
      ],
      "text/plain": [
       "                beer_name             brewery_name  \\\n",
       "0            Sausa Weizen          Vecchio Birraio   \n",
       "1                Red Moon          Vecchio Birraio   \n",
       "2  Black Horse Black Beer          Vecchio Birraio   \n",
       "3              Sausa Pils          Vecchio Birraio   \n",
       "4           Cauldron DIPA  Caldera Brewing Company   \n",
       "\n",
       "                       beer_style  beer_abv  review_overall beer_strength  \n",
       "0                      Hefeweizen       5.0             1.5           Reg  \n",
       "1              English Strong Ale       6.2             3.0          High  \n",
       "2          Foreign / Export Stout       6.5             3.0          High  \n",
       "3                 German Pilsener       5.0             3.0           Reg  \n",
       "4  American Double / Imperial IPA       7.7             4.0          High  "
      ]
     },
     "execution_count": 19,
     "metadata": {},
     "output_type": "execute_result"
    }
   ],
   "source": [
    "# create a list of our conditions\n",
    "conditions = [\n",
    "    (grouped_beers_df['beer_abv'] <= 0.5),\n",
    "    (grouped_beers_df['beer_abv'] >= 0.51) & (grouped_beers_df['beer_abv'] <= 3.299999),\n",
    "    (grouped_beers_df['beer_abv'] >= 3.3) & (grouped_beers_df['beer_abv'] <= 5.99999),\n",
    "    (grouped_beers_df['beer_abv'] >= 6.0)\n",
    "    ]\n",
    "\n",
    "# create a list of the values we want to assign for each condition\n",
    "values = ['NA', 'Low', 'Reg', 'High']\n",
    "\n",
    "# create a new column and use np.select to assign values to it using our lists as arguments\n",
    "grouped_beers_df['beer_strength'] = np.select(conditions, values, default=\"unknown\")\n",
    "\n",
    "# remove \"0\" values\n",
    "\n",
    "\n",
    "# display updated DataFrame\n",
    "grouped_beers_df.head()"
   ]
  },
  {
   "cell_type": "code",
   "execution_count": 20,
   "metadata": {},
   "outputs": [
    {
     "data": {
      "text/html": [
       "<div>\n",
       "<style scoped>\n",
       "    .dataframe tbody tr th:only-of-type {\n",
       "        vertical-align: middle;\n",
       "    }\n",
       "\n",
       "    .dataframe tbody tr th {\n",
       "        vertical-align: top;\n",
       "    }\n",
       "\n",
       "    .dataframe thead th {\n",
       "        text-align: right;\n",
       "    }\n",
       "</style>\n",
       "<table border=\"1\" class=\"dataframe\">\n",
       "  <thead>\n",
       "    <tr style=\"text-align: right;\">\n",
       "      <th></th>\n",
       "      <th>beer_name</th>\n",
       "      <th>brewery_name</th>\n",
       "      <th>beer_style</th>\n",
       "      <th>beer_abv</th>\n",
       "      <th>review_overall</th>\n",
       "    </tr>\n",
       "    <tr>\n",
       "      <th>beer_strength</th>\n",
       "      <th></th>\n",
       "      <th></th>\n",
       "      <th></th>\n",
       "      <th></th>\n",
       "      <th></th>\n",
       "    </tr>\n",
       "  </thead>\n",
       "  <tbody>\n",
       "    <tr>\n",
       "      <th>High</th>\n",
       "      <td>69733</td>\n",
       "      <td>69727</td>\n",
       "      <td>69733</td>\n",
       "      <td>69733</td>\n",
       "      <td>69733</td>\n",
       "    </tr>\n",
       "    <tr>\n",
       "      <th>Low</th>\n",
       "      <td>1071</td>\n",
       "      <td>1071</td>\n",
       "      <td>1071</td>\n",
       "      <td>1071</td>\n",
       "      <td>1071</td>\n",
       "    </tr>\n",
       "    <tr>\n",
       "      <th>NA</th>\n",
       "      <td>295</td>\n",
       "      <td>295</td>\n",
       "      <td>295</td>\n",
       "      <td>295</td>\n",
       "      <td>295</td>\n",
       "    </tr>\n",
       "    <tr>\n",
       "      <th>Reg</th>\n",
       "      <td>71648</td>\n",
       "      <td>71639</td>\n",
       "      <td>71648</td>\n",
       "      <td>71648</td>\n",
       "      <td>71648</td>\n",
       "    </tr>\n",
       "    <tr>\n",
       "      <th>unknown</th>\n",
       "      <td>33097</td>\n",
       "      <td>33097</td>\n",
       "      <td>33097</td>\n",
       "      <td>0</td>\n",
       "      <td>33097</td>\n",
       "    </tr>\n",
       "  </tbody>\n",
       "</table>\n",
       "</div>"
      ],
      "text/plain": [
       "               beer_name  brewery_name  beer_style  beer_abv  review_overall\n",
       "beer_strength                                                               \n",
       "High               69733         69727       69733     69733           69733\n",
       "Low                 1071          1071        1071      1071            1071\n",
       "NA                   295           295         295       295             295\n",
       "Reg                71648         71639       71648     71648           71648\n",
       "unknown            33097         33097       33097         0           33097"
      ]
     },
     "execution_count": 20,
     "metadata": {},
     "output_type": "execute_result"
    }
   ],
   "source": [
    "grouped_beers_df.groupby(['beer_strength']).count()"
   ]
  },
  {
   "cell_type": "code",
   "execution_count": 22,
   "metadata": {},
   "outputs": [],
   "source": [
    "grouped_beers_df.to_csv('beers.csv', index=False)"
   ]
  },
  {
   "cell_type": "code",
   "execution_count": null,
   "metadata": {},
   "outputs": [],
   "source": []
  }
 ],
 "metadata": {
  "kernelspec": {
   "display_name": "Python 3",
   "language": "python",
   "name": "python3"
  },
  "language_info": {
   "codemirror_mode": {
    "name": "ipython",
    "version": 3
   },
   "file_extension": ".py",
   "mimetype": "text/x-python",
   "name": "python",
   "nbconvert_exporter": "python",
   "pygments_lexer": "ipython3",
   "version": "3.8.3"
  }
 },
 "nbformat": 4,
 "nbformat_minor": 4
}
